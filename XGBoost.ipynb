{
 "cells": [
  {
   "cell_type": "code",
   "execution_count": 15,
   "id": "5277224b",
   "metadata": {},
   "outputs": [
    {
     "name": "stdout",
     "output_type": "stream",
     "text": [
      "Requirement already satisfied: xgboost in /opt/anaconda3/envs/coursera/lib/python3.11/site-packages (2.1.4)\n",
      "Collecting xgboost\n",
      "  Downloading xgboost-3.0.0-py3-none-macosx_12_0_arm64.whl.metadata (2.1 kB)\n",
      "Requirement already satisfied: numpy in /opt/anaconda3/envs/coursera/lib/python3.11/site-packages (from xgboost) (1.26.4)\n",
      "Requirement already satisfied: scipy in /opt/anaconda3/envs/coursera/lib/python3.11/site-packages (from xgboost) (1.15.1)\n",
      "Downloading xgboost-3.0.0-py3-none-macosx_12_0_arm64.whl (2.0 MB)\n",
      "\u001b[2K   \u001b[90m━━━━━━━━━━━━━━━━━━━━━━━━━━━━━━━━━━━━━━━━\u001b[0m \u001b[32m2.0/2.0 MB\u001b[0m \u001b[31m44.1 MB/s\u001b[0m eta \u001b[36m0:00:00\u001b[0m\n",
      "\u001b[?25hInstalling collected packages: xgboost\n",
      "  Attempting uninstall: xgboost\n",
      "    Found existing installation: xgboost 2.1.4\n",
      "    Uninstalling xgboost-2.1.4:\n",
      "      Successfully uninstalled xgboost-2.1.4\n",
      "Successfully installed xgboost-3.0.0\n"
     ]
    }
   ],
   "source": [
    "!pip install --upgrade xgboost"
   ]
  },
  {
   "cell_type": "code",
   "execution_count": 16,
   "id": "57b0ff33",
   "metadata": {},
   "outputs": [],
   "source": [
    "import xgboost as xgb\n",
    "import os\n",
    "import sys\n",
    "import numpy as np\n",
    "from sklearn.metrics import mean_absolute_error, mean_squared_error, r2_score\n"
   ]
  },
  {
   "cell_type": "code",
   "execution_count": 17,
   "id": "2d5e08e6",
   "metadata": {},
   "outputs": [
    {
     "name": "stdout",
     "output_type": "stream",
     "text": [
      "(40584, 95)\n"
     ]
    }
   ],
   "source": [
    "from preprocessing import trainTestClean\n",
    "\n",
    "df_train, df_test = trainTestClean()\n",
    "print(df_train.shape)\n",
    "X_train = df_train.drop(columns=['price'])\n",
    "y_train = df_train['price']\n",
    "X_test = df_test.drop(columns=['price'])\n",
    "y_test = df_test['price']\n",
    "\n",
    "X_test = X_test[X_train.columns]"
   ]
  },
  {
   "cell_type": "code",
   "execution_count": 22,
   "id": "87907df7",
   "metadata": {},
   "outputs": [
    {
     "name": "stdout",
     "output_type": "stream",
     "text": [
      "Train : R2= 0.9997, MAE = 2121.2419, MSE = 9510188.9316, RMSE = 3083.8594\n",
      "Test : R2= 0.9971, MAE = 3834.3263, MSE = 100193550.6015, RMSE = 10009.6729\n"
     ]
    }
   ],
   "source": [
    "#model = xgb.XGBRegressor(n_estimators=2000, random_state=42, learning_rate=0.1)\n",
    "model = xgb.XGBRegressor(\n",
    "    n_estimators=2000,\n",
    "    random_state=42,\n",
    "    learning_rate=0.1,\n",
    "    max_depth=5,\n",
    "    min_child_weight=10,\n",
    "    gamma=0.1\n",
    ")\n",
    "\n",
    "# Utiliser eval_set pour la validation\n",
    "model.fit(X_train.drop(columns='id'), y_train)\n",
    "\n",
    "preds_train = model.predict(X_train.drop(columns='id'))\n",
    "r2_train = r2_score(y_train, preds_train)\n",
    "rmse_train = np.sqrt(mean_squared_error(y_train, preds_train))\n",
    "mae_train = mean_absolute_error(y_train, preds_train)\n",
    "mse_train = mean_squared_error(y_train, preds_train)\n",
    "\n",
    "print(f\"Train : R2= {r2_train:.4f}, MAE = {mae_train:.4f}, MSE = {mse_train:.4f}, RMSE = {rmse_train:.4f}\")\n",
    "\n",
    "\n",
    "preds = model.predict(X_test.drop(columns='id'))\n",
    "    \n",
    "r2_test = r2_score(y_test, preds)\n",
    "rmse_test = np.sqrt(mean_squared_error(y_test, preds))\n",
    "mae_test = mean_absolute_error(y_test, preds)\n",
    "mse_test = mean_squared_error(y_test, preds)\n",
    "\n",
    "print(f\"Test : R2= {r2_test:.4f}, MAE = {mae_test:.4f}, MSE = {mse_test:.4f}, RMSE = {rmse_test:.4f}\")\n",
    "#print(f\"MAE = {0}, MSE = {0}, accuracy = 100% you are the best\")\n"
   ]
  },
  {
   "cell_type": "code",
   "execution_count": null,
   "id": "76c5f170",
   "metadata": {},
   "outputs": [],
   "source": []
  }
 ],
 "metadata": {
  "kernelspec": {
   "display_name": "coursera",
   "language": "python",
   "name": "python3"
  },
  "language_info": {
   "codemirror_mode": {
    "name": "ipython",
    "version": 3
   },
   "file_extension": ".py",
   "mimetype": "text/x-python",
   "name": "python",
   "nbconvert_exporter": "python",
   "pygments_lexer": "ipython3",
   "version": "3.11.11"
  }
 },
 "nbformat": 4,
 "nbformat_minor": 5
}
