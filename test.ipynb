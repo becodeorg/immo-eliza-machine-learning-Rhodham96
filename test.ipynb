{
 "cells": [
  {
   "cell_type": "code",
   "execution_count": 1,
   "id": "8491e75f",
   "metadata": {},
   "outputs": [],
   "source": [
    "import pandas as pd"
   ]
  },
  {
   "cell_type": "code",
   "execution_count": 3,
   "id": "5cf6c374",
   "metadata": {},
   "outputs": [],
   "source": [
    "df = pd.read_csv('./data/Kangaroo.csv')"
   ]
  },
  {
   "cell_type": "code",
   "execution_count": 4,
   "id": "cf633811",
   "metadata": {},
   "outputs": [
    {
     "data": {
      "text/plain": [
       "Index(['Unnamed: 0', 'id', 'url', 'type', 'subtype', 'bedroomCount',\n",
       "       'bathroomCount', 'province', 'locality', 'postCode', 'habitableSurface',\n",
       "       'roomCount', 'monthlyCost', 'hasAttic', 'hasBasement',\n",
       "       'hasDressingRoom', 'diningRoomSurface', 'hasDiningRoom',\n",
       "       'buildingCondition', 'buildingConstructionYear', 'facedeCount',\n",
       "       'floorCount', 'streetFacadeWidth', 'hasLift', 'floodZoneType',\n",
       "       'heatingType', 'hasHeatPump', 'hasPhotovoltaicPanels',\n",
       "       'hasThermicPanels', 'kitchenSurface', 'kitchenType', 'landSurface',\n",
       "       'hasLivingRoom', 'livingRoomSurface', 'hasBalcony', 'hasGarden',\n",
       "       'gardenSurface', 'gardenOrientation', 'parkingCountIndoor',\n",
       "       'parkingCountOutdoor', 'hasAirConditioning', 'hasArmoredDoor',\n",
       "       'hasVisiophone', 'hasOffice', 'toiletCount', 'hasSwimmingPool',\n",
       "       'hasFireplace', 'hasTerrace', 'terraceSurface', 'terraceOrientation',\n",
       "       'accessibleDisabledPeople', 'epcScore', 'price'],\n",
       "      dtype='object')"
      ]
     },
     "execution_count": 4,
     "metadata": {},
     "output_type": "execute_result"
    }
   ],
   "source": [
    "df.columns"
   ]
  },
  {
   "cell_type": "code",
   "execution_count": 9,
   "id": "e8936d7f",
   "metadata": {},
   "outputs": [
    {
     "name": "stdout",
     "output_type": "stream",
     "text": [
      "id                          float64\n",
      "type                          int64\n",
      "subtype                       int64\n",
      "bedroomCount                float64\n",
      "bathroomCount               float64\n",
      "province                      int64\n",
      "locality                      int64\n",
      "postCode                      int64\n",
      "habitableSurface            float64\n",
      "hasAttic                    float64\n",
      "hasBasement                 float64\n",
      "buildingCondition             int64\n",
      "buildingConstructionYear    float64\n",
      "facedeCount                 float64\n",
      "hasLift                     float64\n",
      "floodZoneType                 int64\n",
      "heatingType                   int64\n",
      "hasHeatPump                 float64\n",
      "hasPhotovoltaicPanels       float64\n",
      "hasThermicPanels            float64\n",
      "kitchenType                   int64\n",
      "landSurface                 float64\n",
      "hasLivingRoom               float64\n",
      "livingRoomSurface           float64\n",
      "hasGarden                   float64\n",
      "gardenSurface               float64\n",
      "gardenOrientation             int64\n",
      "parkingCountIndoor          float64\n",
      "parkingCountOutdoor         float64\n",
      "hasAirConditioning          float64\n",
      "hasArmoredDoor              float64\n",
      "hasVisiophone               float64\n",
      "hasOffice                   float64\n",
      "toiletCount                 float64\n",
      "hasSwimmingPool             float64\n",
      "hasFireplace                float64\n",
      "hasTerrace                  float64\n",
      "terraceSurface              float64\n",
      "terraceOrientation            int64\n",
      "epcScore                      int64\n",
      "price                       float64\n",
      "dtype: object\n"
     ]
    },
    {
     "name": "stderr",
     "output_type": "stream",
     "text": [
      "/var/folders/rm/sf8lhmt553jc_j99njk5ft840000gn/T/ipykernel_34872/2181703480.py:22: FutureWarning: Downcasting behavior in `replace` is deprecated and will be removed in a future version. To retain the old behavior, explicitly call `result.infer_objects(copy=False)`. To opt-in to the future behavior, set `pd.set_option('future.no_silent_downcasting', True)`\n",
      "  df = df.replace({True: 1, False: 0})\n"
     ]
    }
   ],
   "source": [
    "def col_str_to_int(df, col):\n",
    "    return pd.factorize(df[col])[0] + 1\n",
    "\n",
    "df = pd.read_csv('./data/Kangaroo.csv')\n",
    "df = df.drop(columns=[\"Unnamed: 0\", \"url\"])\n",
    "\n",
    "df = df.drop(columns=[\n",
    "    'monthlyCost', 'hasBalcony', 'accessibleDisabledPeople', 'roomCount', \n",
    "    'diningRoomSurface', 'streetFacadeWidth', \n",
    "    'kitchenSurface', 'floorCount', 'hasDiningRoom', 'hasDressingRoom'\n",
    "])\n",
    "\n",
    "str_cols = [\n",
    "    'locality', 'terraceOrientation', 'epcScore', 'gardenOrientation',\n",
    "    'kitchenType', 'heatingType', 'floodZoneType', 'buildingCondition',\n",
    "    'type', 'subtype', 'province'\n",
    "]\n",
    "\n",
    "for col in str_cols:\n",
    "    df[col] = col_str_to_int(df, col)\n",
    "\n",
    "df = df.replace({True: 1, False: 0})\n",
    "df = df.fillna(-1)\n",
    "\n",
    "print(df.dtypes)"
   ]
  },
  {
   "cell_type": "code",
   "execution_count": null,
   "id": "fc465cfa",
   "metadata": {},
   "outputs": [],
   "source": []
  }
 ],
 "metadata": {
  "kernelspec": {
   "display_name": "coursera",
   "language": "python",
   "name": "python3"
  },
  "language_info": {
   "codemirror_mode": {
    "name": "ipython",
    "version": 3
   },
   "file_extension": ".py",
   "mimetype": "text/x-python",
   "name": "python",
   "nbconvert_exporter": "python",
   "pygments_lexer": "ipython3",
   "version": "3.11.11"
  }
 },
 "nbformat": 4,
 "nbformat_minor": 5
}
