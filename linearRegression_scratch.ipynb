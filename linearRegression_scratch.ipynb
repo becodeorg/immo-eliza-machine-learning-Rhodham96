{
 "cells": [
  {
   "cell_type": "markdown",
   "id": "ad1e16b3",
   "metadata": {},
   "source": [
    "# Linear Regression from scratch"
   ]
  },
  {
   "cell_type": "code",
   "execution_count": 2,
   "id": "dd3e09ec",
   "metadata": {},
   "outputs": [],
   "source": [
    "import csv\n",
    "import random\n",
    "import math\n",
    "import numpy as np"
   ]
  },
  {
   "cell_type": "markdown",
   "id": "a2428121",
   "metadata": {},
   "source": [
    "## load train and test data"
   ]
  },
  {
   "cell_type": "code",
   "execution_count": 68,
   "id": "21b90e4d",
   "metadata": {},
   "outputs": [],
   "source": [
    "def loadDataset(filename):\n",
    "    with open(filename, 'r') as csvfile:\n",
    "        lines = csv.reader(csvfile)\n",
    "        dataset = list(lines)\n",
    "        headers = dataset[0]\n",
    "        dataset = dataset[1: len(dataset)]\n",
    "        return dataset, headers\n",
    "    \n",
    "train_data, train_headers = loadDataset('./data/train.csv')\n",
    "test_data, test_headers = loadDataset('./data/test.csv')\n",
    "\n",
    "train_data = np.array(train_data, dtype=float)\n",
    "test_data = np.array(test_data, dtype=float)"
   ]
  },
  {
   "cell_type": "markdown",
   "id": "ac9d1ba8",
   "metadata": {},
   "source": [
    "## X_train without id and price and y is target so = price column"
   ]
  },
  {
   "cell_type": "code",
   "execution_count": 69,
   "id": "0b7052a2",
   "metadata": {},
   "outputs": [],
   "source": [
    "X_train = train_data[:, 1:-1]\n",
    "y_train = train_data[:, -1]\n",
    "\n",
    "X_test = test_data[:, 1:-1]\n",
    "y_test = test_data[:, -1]\n"
   ]
  },
  {
   "cell_type": "markdown",
   "id": "cb2a8d36",
   "metadata": {},
   "source": [
    "## Add column for prices filled with ones"
   ]
  },
  {
   "cell_type": "code",
   "execution_count": 70,
   "id": "3504c85f",
   "metadata": {},
   "outputs": [],
   "source": [
    "one = np.ones((len(X_train), 1))\n",
    "X_train = np.append(one, X_train, axis=1)\n",
    "\n",
    "# reshape y_train to a column vector\n",
    "y_train = np.array(y_train).reshape((len(y_train),1))\n",
    "\n",
    "# lets look these :\n",
    "\n",
    "# do the same with test :\n",
    "one = np.ones((len(X_test), 1))\n",
    "X_test = np.append(one, X_test, axis=1)\n",
    "\n",
    "# reshape y_train to a column vector\n",
    "y_test = np.array(y_test).reshape((len(y_test),1))\n"
   ]
  },
  {
   "cell_type": "markdown",
   "id": "2286a538",
   "metadata": {},
   "source": [
    "## find beta with normal equation:\n",
    "beta = (X(transposed)*X)^-1 * (X(transposed)*y) with * as dot product"
   ]
  },
  {
   "cell_type": "code",
   "execution_count": 71,
   "id": "3e407319",
   "metadata": {},
   "outputs": [],
   "source": [
    "\n",
    "def normal_equation(X, y):\n",
    "    beta = np.dot(np.linalg.inv(np.dot(X.T, X)), np.dot(X.T, y))\n",
    "    return beta\n",
    "\n",
    "def predict(X_test, beta):\n",
    "    return np.dot(X_test, beta)"
   ]
  },
  {
   "cell_type": "code",
   "execution_count": 72,
   "id": "1695d7e2",
   "metadata": {},
   "outputs": [],
   "source": [
    "beta = normal_equation(X_train, y_train)\n",
    "predictions = predict(X_test, beta)\n",
    "\n"
   ]
  },
  {
   "cell_type": "code",
   "execution_count": 73,
   "id": "dfcceba7",
   "metadata": {},
   "outputs": [
    {
     "name": "stdout",
     "output_type": "stream",
     "text": [
      "float64\n",
      "float64\n"
     ]
    }
   ],
   "source": [
    "print(X_train.dtype)\n",
    "print(y_train.dtype)"
   ]
  },
  {
   "cell_type": "markdown",
   "id": "67d4db87",
   "metadata": {},
   "source": [
    "## Check accuracy"
   ]
  },
  {
   "cell_type": "code",
   "execution_count": 74,
   "id": "a3faf60a",
   "metadata": {},
   "outputs": [],
   "source": [
    "def metrics(predictions, y_test):\n",
    "\n",
    "    # MAE (mean absolute error)\n",
    "    MAE = np.mean(np.abs(predictions - y_test))\n",
    "\n",
    "    # MAPE\n",
    "    epsilon = 1e-8  # Small constant to avoid division by zero\n",
    "    MAPE = np.mean(np.abs((y_test - predictions) / (y_test + epsilon))) * 100\n",
    "\n",
    "    # RMSE (root mean squared error)\n",
    "    MSE = np.square(np.subtract(y_test,predictions)).mean() \n",
    "    RMSE = math.sqrt(MSE)\n",
    "\n",
    "    # r_square\n",
    "    rss = np.sum(np.square(predictions - y_test))\n",
    "    mean = np.mean(y_test)\n",
    "    sst = np.sum(np.square(y_test-mean))\n",
    "    r_square = 1 - (rss/sst)\n",
    "\n",
    "    return MAE, MAPE, RMSE, r_square"
   ]
  },
  {
   "cell_type": "code",
   "execution_count": 75,
   "id": "620b5471",
   "metadata": {},
   "outputs": [],
   "source": [
    "MAE, MAPE, RMSE, r_square = metrics(predictions, y_test)"
   ]
  },
  {
   "cell_type": "code",
   "execution_count": 76,
   "id": "5e5d8d93",
   "metadata": {},
   "outputs": [
    {
     "name": "stdout",
     "output_type": "stream",
     "text": [
      "MAE = 4378597.040455299, MAPE = 1518.5471878028306, RMSE = 4971328.562809775, r_square = -308.1116948889128\n"
     ]
    }
   ],
   "source": [
    "print(f\"MAE = {MAE}, MAPE = {MAPE}, RMSE = {RMSE}, r_square = {r_square}\")"
   ]
  },
  {
   "cell_type": "code",
   "execution_count": null,
   "id": "7af6c4e4",
   "metadata": {},
   "outputs": [],
   "source": []
  }
 ],
 "metadata": {
  "kernelspec": {
   "display_name": "coursera",
   "language": "python",
   "name": "python3"
  },
  "language_info": {
   "codemirror_mode": {
    "name": "ipython",
    "version": 3
   },
   "file_extension": ".py",
   "mimetype": "text/x-python",
   "name": "python",
   "nbconvert_exporter": "python",
   "pygments_lexer": "ipython3",
   "version": "3.11.11"
  }
 },
 "nbformat": 4,
 "nbformat_minor": 5
}
