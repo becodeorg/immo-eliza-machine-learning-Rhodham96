{
 "cells": [
  {
   "cell_type": "markdown",
   "id": "ad1e16b3",
   "metadata": {},
   "source": [
    "# Linear Regression from scratch"
   ]
  },
  {
   "cell_type": "code",
   "execution_count": 1,
   "id": "dd3e09ec",
   "metadata": {},
   "outputs": [],
   "source": [
    "import csv\n",
    "import random\n",
    "import math\n",
    "import numpy as np"
   ]
  },
  {
   "cell_type": "markdown",
   "id": "a2428121",
   "metadata": {},
   "source": [
    "## load train and test data"
   ]
  },
  {
   "cell_type": "code",
   "execution_count": null,
   "id": "21b90e4d",
   "metadata": {},
   "outputs": [],
   "source": [
    "def loadDataset(filename):\n",
    "    with open(filename, 'r') as csvfile:\n",
    "        lines = csv.reader(csvfile)\n",
    "        dataset = list(lines)\n",
    "        headers = dataset[0]\n",
    "        dataset = dataset[1: len(dataset)]\n",
    "        return dataset, headers\n",
    "    \n",
    "train_data, train_headers = loadDataset('./data/train.csv')\n",
    "test_data, test_headers = loadDataset('./data/test.csv')\n",
    "\n",
    "train_data = np.array(train_data, dtype=float)\n",
    "test_data = np.array(test_data, dtype=float)\n",
    "train_data = np.nan_to_num(train_data, nan=-1)\n",
    "test_data = np.nan_to_num(test_data, nan=-1)\n",
    "\n"
   ]
  },
  {
   "cell_type": "code",
   "execution_count": 14,
   "id": "96426104",
   "metadata": {},
   "outputs": [],
   "source": [
    "import pandas as pd\n",
    "from preprocessing import trainTestClean\n",
    "\n",
    "df_train, df_test = trainTestClean()\n"
   ]
  },
  {
   "cell_type": "code",
   "execution_count": 15,
   "id": "13af38ad",
   "metadata": {},
   "outputs": [],
   "source": [
    "class Zscore:\n",
    "    def __init__(self, arr):\n",
    "        self.arr = arr.copy().astype(float)\n",
    "        self.col_mean = np.mean(arr, axis=0)\n",
    "        self.col_std = np.std(arr, axis=0)\n",
    "        self.normalized = np.array([])\n",
    "\n",
    "    def normalize(self):\n",
    "        self.normalized = (self.arr-self.col_mean)/(self.col_std+1e-15)\n",
    "        return self.normalized\n",
    "\n",
    "    def deNormalize(self, normalized):\n",
    "        normal = normalized * self.col_std + self.col_mean\n",
    "        return normal\n",
    " \n",
    "zscore_train = Zscore(df_train.values)\n",
    "train_data = zscore_train.normalize()\n",
    "zscore_test = Zscore(df_test.values)\n",
    "test_data = zscore_test.normalize()\n"
   ]
  },
  {
   "cell_type": "markdown",
   "id": "ac9d1ba8",
   "metadata": {},
   "source": [
    "## X_train without id and price and y is target so = price column"
   ]
  },
  {
   "cell_type": "code",
   "execution_count": 16,
   "id": "0b7052a2",
   "metadata": {},
   "outputs": [],
   "source": [
    "X_train = train_data[:, 1:-1]\n",
    "y_train = train_data[:, -1]\n",
    "\n",
    "X_test = test_data[:, 1:-1]\n",
    "y_test = test_data[:, -1]\n"
   ]
  },
  {
   "cell_type": "markdown",
   "id": "cb2a8d36",
   "metadata": {},
   "source": [
    "## Add column for prices filled with ones"
   ]
  },
  {
   "cell_type": "code",
   "execution_count": 17,
   "id": "3504c85f",
   "metadata": {},
   "outputs": [],
   "source": [
    "one = np.ones((len(X_train), 1))\n",
    "X_train = np.append(one, X_train, axis=1)\n",
    "\n",
    "# reshape y_train to a column vector\n",
    "y_train = np.array(y_train).reshape((len(y_train),1))\n",
    "\n",
    "# lets look these :\n",
    "\n",
    "# do the same with test :\n",
    "one = np.ones((len(X_test), 1))\n",
    "X_test = np.append(one, X_test, axis=1)\n",
    "\n",
    "# reshape y_train to a column vector\n",
    "y_test = np.array(y_test).reshape((len(y_test),1))\n"
   ]
  },
  {
   "cell_type": "markdown",
   "id": "2286a538",
   "metadata": {},
   "source": [
    "## find beta with normal equation:\n",
    "beta = (X(transposed)*X)^-1 * (X(transposed)*y) with * as dot product"
   ]
  },
  {
   "cell_type": "code",
   "execution_count": 22,
   "id": "3e407319",
   "metadata": {},
   "outputs": [],
   "source": [
    "\n",
    "def normal_equation(X, y):\n",
    "    X = X + 1e-15\n",
    "    y = y + 1e-15\n",
    "    beta = np.dot(np.linalg.inv(np.dot(X.T, X)), np.dot(X.T, y))\n",
    "    return beta\n",
    "\n",
    "def predict(X_test, beta):\n",
    "    return np.dot(X_test, beta)"
   ]
  },
  {
   "cell_type": "code",
   "execution_count": 23,
   "id": "1695d7e2",
   "metadata": {},
   "outputs": [],
   "source": [
    "beta = normal_equation(X_train, y_train)\n",
    "predictions = predict(X_test, beta)\n",
    "\n"
   ]
  },
  {
   "cell_type": "code",
   "execution_count": 24,
   "id": "dfcceba7",
   "metadata": {},
   "outputs": [
    {
     "name": "stdout",
     "output_type": "stream",
     "text": [
      "float64\n",
      "float64\n"
     ]
    }
   ],
   "source": [
    "print(X_train.dtype)\n",
    "print(y_train.dtype)"
   ]
  },
  {
   "cell_type": "markdown",
   "id": "67d4db87",
   "metadata": {},
   "source": [
    "## Check accuracy"
   ]
  },
  {
   "cell_type": "code",
   "execution_count": 25,
   "id": "a3faf60a",
   "metadata": {},
   "outputs": [],
   "source": [
    "def metrics(predictions, y_test):\n",
    "\n",
    "    # MAE (mean absolute error)\n",
    "    MAE = np.mean(np.abs(predictions - y_test))\n",
    "\n",
    "    # MAPE\n",
    "    epsilon = 1e-8  # Small constant to avoid division by zero\n",
    "    MAPE = np.mean(np.abs((y_test - predictions) / (y_test + epsilon))) * 100\n",
    "\n",
    "    # RMSE (root mean squared error)\n",
    "    MSE = np.square(np.subtract(y_test,predictions)).mean() \n",
    "    RMSE = math.sqrt(MSE)\n",
    "\n",
    "    # r_square\n",
    "    rss = np.sum(np.square(predictions - y_test))\n",
    "    mean = np.mean(y_test)\n",
    "    sst = np.sum(np.square(y_test-mean))\n",
    "    r_square = 1 - (rss/sst)\n",
    "\n",
    "    return MAE, MAPE, RMSE, r_square"
   ]
  },
  {
   "cell_type": "code",
   "execution_count": 28,
   "id": "620b5471",
   "metadata": {},
   "outputs": [],
   "source": [
    "predictions = zscore_test.deNormalize(predictions)\n",
    "ytest = zscore_test.deNormalize(y_test)\n",
    "MAE, MAPE, RMSE, r_square = metrics(predictions, y_test)"
   ]
  },
  {
   "cell_type": "code",
   "execution_count": 29,
   "id": "5e5d8d93",
   "metadata": {},
   "outputs": [
    {
     "name": "stdout",
     "output_type": "stream",
     "text": [
      "MAE = 211371.05549666632, MAPE = 374413330.63513756, RMSE = 2057398.8714183937, r_square = -406357451146912.3\n"
     ]
    }
   ],
   "source": [
    "print(f\"MAE = {MAE}, MAPE = {MAPE}, RMSE = {RMSE}, r_square = {r_square}\")"
   ]
  },
  {
   "cell_type": "code",
   "execution_count": null,
   "id": "7af6c4e4",
   "metadata": {},
   "outputs": [],
   "source": []
  }
 ],
 "metadata": {
  "kernelspec": {
   "display_name": "coursera",
   "language": "python",
   "name": "python3"
  },
  "language_info": {
   "codemirror_mode": {
    "name": "ipython",
    "version": 3
   },
   "file_extension": ".py",
   "mimetype": "text/x-python",
   "name": "python",
   "nbconvert_exporter": "python",
   "pygments_lexer": "ipython3",
   "version": "3.11.11"
  }
 },
 "nbformat": 4,
 "nbformat_minor": 5
}
