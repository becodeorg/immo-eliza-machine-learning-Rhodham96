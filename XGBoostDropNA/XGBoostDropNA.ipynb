{
 "cells": [
  {
   "cell_type": "code",
   "execution_count": null,
   "id": "57b0ff33",
   "metadata": {},
   "outputs": [],
   "source": [
    "import xgboost as xgb"
   ]
  },
  {
   "cell_type": "code",
   "execution_count": null,
   "id": "b47a7628",
   "metadata": {},
   "outputs": [],
   "source": [
    "from preprocessing_dropna import trainTestCleanDropNa\n",
    "\n",
    "df_train, df_test = trainTestCleanDropNa()\n",
    "print(df_train.shape)\n",
    "X_train = df_train.drop(columns=['price'])\n",
    "y_train = df_train['price']\n",
    "X_test = df_test.drop(columns=['price'])\n",
    "y_test = df_test['price']\n",
    "\n",
    "X_test = X_test[X_train.columns]"
   ]
  },
  {
   "cell_type": "code",
   "execution_count": null,
   "id": "87907df7",
   "metadata": {},
   "outputs": [],
   "source": [
    "# select multiple models\n",
    "\n",
    "model = xgb.XGBRegressor(\n",
    "    n_estimators=3000,\n",
    "    learning_rate=0.031,\n",
    "    max_depth=9,\n",
    "    subsample=0.831,\n",
    "    colsample_bytree=0.395,\n",
    "    colsample_bylevel=0.449,\n",
    "    reg_alpha=1.769,\n",
    "    reg_lambda=3.922,\n",
    "    random_state=42,\n",
    "    tree_method='hist'\n",
    "    )\n",
    "\n",
    "\n",
    "model.fit(X_train.drop(columns='id'), y_train)\n",
    "\n",
    "preds = model.predict(X_test.drop(columns='id'))\n",
    "    \n",
    "mae = mean_absolute_error(y_test, preds)\n",
    "mse = mean_squared_error(y_test, preds)\n",
    "\n",
    "print(f\"MAE = {mae:.4f}, MSE = {mse:.4f}\")\n",
    "#print(f\"MAE = {0}, MSE = {0}, accuracy = 100% you are the best\")\n"
   ]
  }
 ],
 "metadata": {
  "language_info": {
   "name": "python"
  }
 },
 "nbformat": 4,
 "nbformat_minor": 5
}
