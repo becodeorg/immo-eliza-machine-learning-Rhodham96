{
 "cells": [
  {
   "cell_type": "code",
   "execution_count": 3,
   "id": "a20545f1",
   "metadata": {},
   "outputs": [
    {
     "name": "stdout",
     "output_type": "stream",
     "text": [
      "Collecting tensorflow_probability\n",
      "  Downloading tensorflow_probability-0.25.0-py2.py3-none-any.whl.metadata (13 kB)\n",
      "Requirement already satisfied: absl-py in /opt/anaconda3/envs/coursera/lib/python3.11/site-packages (from tensorflow_probability) (2.1.0)\n",
      "Requirement already satisfied: six>=1.10.0 in /opt/anaconda3/envs/coursera/lib/python3.11/site-packages (from tensorflow_probability) (1.16.0)\n",
      "Requirement already satisfied: numpy>=1.13.3 in /opt/anaconda3/envs/coursera/lib/python3.11/site-packages (from tensorflow_probability) (1.26.4)\n",
      "Requirement already satisfied: decorator in /opt/anaconda3/envs/coursera/lib/python3.11/site-packages (from tensorflow_probability) (5.1.1)\n",
      "Collecting cloudpickle>=1.3 (from tensorflow_probability)\n",
      "  Downloading cloudpickle-3.1.1-py3-none-any.whl.metadata (7.1 kB)\n",
      "Requirement already satisfied: gast>=0.3.2 in /opt/anaconda3/envs/coursera/lib/python3.11/site-packages (from tensorflow_probability) (0.6.0)\n",
      "Collecting dm-tree (from tensorflow_probability)\n",
      "  Downloading dm_tree-0.1.9-cp311-cp311-macosx_10_9_universal2.whl.metadata (2.4 kB)\n",
      "Requirement already satisfied: attrs>=18.2.0 in /opt/anaconda3/envs/coursera/lib/python3.11/site-packages (from dm-tree->tensorflow_probability) (24.3.0)\n",
      "Requirement already satisfied: wrapt>=1.11.2 in /opt/anaconda3/envs/coursera/lib/python3.11/site-packages (from dm-tree->tensorflow_probability) (1.17.2)\n",
      "Downloading tensorflow_probability-0.25.0-py2.py3-none-any.whl (7.0 MB)\n",
      "\u001b[2K   \u001b[90m━━━━━━━━━━━━━━━━━━━━━━━━━━━━━━━━━━━━━━━━\u001b[0m \u001b[32m7.0/7.0 MB\u001b[0m \u001b[31m58.3 MB/s\u001b[0m eta \u001b[36m0:00:00\u001b[0m\n",
      "\u001b[?25hDownloading cloudpickle-3.1.1-py3-none-any.whl (20 kB)\n",
      "Downloading dm_tree-0.1.9-cp311-cp311-macosx_10_9_universal2.whl (173 kB)\n",
      "Installing collected packages: dm-tree, cloudpickle, tensorflow_probability\n",
      "Successfully installed cloudpickle-3.1.1 dm-tree-0.1.9 tensorflow_probability-0.25.0\n"
     ]
    }
   ],
   "source": [
    "!pip install tensorflow_probability"
   ]
  },
  {
   "cell_type": "code",
   "execution_count": 4,
   "id": "1e5be48b",
   "metadata": {},
   "outputs": [],
   "source": [
    "import os\n",
    "import sys\n",
    "if not os.path.isdir('training-instrumentation-toolkit'):\n",
    "  !git clone https://github.com/malcolmlett/training-instrumentation-toolkit.git\n",
    "sys.path.append('training-instrumentation-toolkit')\n",
    "import train_instrumentation as tinstr\n",
    "import train_explainer as texpl\n",
    "from tensorflow.keras import layers\n",
    "from tensorflow.keras.models import Sequential"
   ]
  },
  {
   "cell_type": "code",
   "execution_count": null,
   "id": "c2faf08c",
   "metadata": {},
   "outputs": [],
   "source": [
    "model = Sequential([\n",
    "    layers.Dense(128, activation='relu', input_shape=(93,))\n",
    "\n",
    "])"
   ]
  },
  {
   "cell_type": "code",
   "execution_count": null,
   "id": "31a30b3f",
   "metadata": {},
   "outputs": [],
   "source": [
    "def my_dataset():\n",
    "    ..."
   ]
  }
 ],
 "metadata": {
  "kernelspec": {
   "display_name": "coursera",
   "language": "python",
   "name": "python3"
  },
  "language_info": {
   "codemirror_mode": {
    "name": "ipython",
    "version": 3
   },
   "file_extension": ".py",
   "mimetype": "text/x-python",
   "name": "python",
   "nbconvert_exporter": "python",
   "pygments_lexer": "ipython3",
   "version": "3.11.11"
  }
 },
 "nbformat": 4,
 "nbformat_minor": 5
}
